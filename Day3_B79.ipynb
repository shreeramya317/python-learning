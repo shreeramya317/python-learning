{
 "cells": [
  {
   "cell_type": "code",
   "execution_count": 1,
   "id": "4ab0c004",
   "metadata": {},
   "outputs": [
    {
     "name": "stdout",
     "output_type": "stream",
     "text": [
      "ramya shree\n"
     ]
    }
   ],
   "source": [
    "firstname = \"ramya\"\n",
    "lastname = \"shree\"\n",
    "fullname = f\"{firstname} {lastname}\"\n",
    "print(fullname)"
   ]
  },
  {
   "cell_type": "code",
   "execution_count": 2,
   "id": "d7324978",
   "metadata": {},
   "outputs": [
    {
     "name": "stdout",
     "output_type": "stream",
     "text": [
      "Ramya Shree\n"
     ]
    }
   ],
   "source": [
    "print(fullname.title())"
   ]
  },
  {
   "cell_type": "code",
   "execution_count": 3,
   "id": "bd3d1149",
   "metadata": {},
   "outputs": [
    {
     "name": "stdout",
     "output_type": "stream",
     "text": [
      "RAMYA SHREE\n"
     ]
    }
   ],
   "source": [
    "print(fullname.upper())"
   ]
  },
  {
   "cell_type": "code",
   "execution_count": 4,
   "id": "d95979de",
   "metadata": {},
   "outputs": [
    {
     "name": "stdout",
     "output_type": "stream",
     "text": [
      "fav_fruits:mangoappleorangegrape\n"
     ]
    }
   ],
   "source": [
    "print(\"fav_fruits:mangoappleorangegrape\")"
   ]
  },
  {
   "cell_type": "code",
   "execution_count": 5,
   "id": "ea7c5aa1",
   "metadata": {},
   "outputs": [
    {
     "name": "stdout",
     "output_type": "stream",
     "text": [
      "fav_fruits:\n",
      "mango\n",
      "apple\n",
      "orange\n",
      "grape\n"
     ]
    }
   ],
   "source": [
    "print(\"fav_fruits:\\nmango\\napple\\norange\\ngrape\")"
   ]
  },
  {
   "cell_type": "code",
   "execution_count": 6,
   "id": "06f53e71",
   "metadata": {},
   "outputs": [
    {
     "name": "stdout",
     "output_type": "stream",
     "text": [
      "fav_fruits:\n",
      "\tmango\n",
      "\tapple\n",
      "\torange\n",
      "\tgrape\n"
     ]
    }
   ],
   "source": [
    "print(\"fav_fruits:\\n\\tmango\\n\\tapple\\n\\torange\\n\\tgrape\")"
   ]
  },
  {
   "cell_type": "code",
   "execution_count": 7,
   "id": "c2c93900",
   "metadata": {},
   "outputs": [
    {
     "name": "stdout",
     "output_type": "stream",
     "text": [
      " python\n",
      "python \n"
     ]
    },
    {
     "ename": "NameError",
     "evalue": "name 'language3' is not defined",
     "output_type": "error",
     "traceback": [
      "\u001b[1;31m---------------------------------------------------------------------------\u001b[0m",
      "\u001b[1;31mNameError\u001b[0m                                 Traceback (most recent call last)",
      "Cell \u001b[1;32mIn[7], line 6\u001b[0m\n\u001b[0;32m      4\u001b[0m \u001b[38;5;28mprint\u001b[39m(language)\n\u001b[0;32m      5\u001b[0m \u001b[38;5;28mprint\u001b[39m(language2)\n\u001b[1;32m----> 6\u001b[0m \u001b[38;5;28mprint\u001b[39m(\u001b[43mlanguage3\u001b[49m)\n",
      "\u001b[1;31mNameError\u001b[0m: name 'language3' is not defined"
     ]
    }
   ],
   "source": [
    "language = ' python'\n",
    "language2 = 'python '\n",
    "langauage3 = ' python '\n",
    "print(language)\n",
    "print(language2)\n",
    "print(language3)"
   ]
  },
  {
   "cell_type": "code",
   "execution_count": 8,
   "id": "845f5cf2",
   "metadata": {},
   "outputs": [
    {
     "name": "stdout",
     "output_type": "stream",
     "text": [
      " python\n",
      "python \n",
      " python \n"
     ]
    }
   ],
   "source": [
    "language = ' python'\n",
    "language2 = 'python '\n",
    "language3 = ' python '\n",
    "print(language)\n",
    "print(language2)\n",
    "print(language3)"
   ]
  },
  {
   "cell_type": "code",
   "execution_count": 9,
   "id": "20df6355",
   "metadata": {},
   "outputs": [
    {
     "data": {
      "text/plain": [
       "'python'"
      ]
     },
     "execution_count": 9,
     "metadata": {},
     "output_type": "execute_result"
    }
   ],
   "source": [
    "language.lstrip()\n",
    "language2.rstrip()\n",
    "language3.strip()\n"
   ]
  },
  {
   "cell_type": "code",
   "execution_count": null,
   "id": "362efdc5",
   "metadata": {},
   "outputs": [],
   "source": []
  }
 ],
 "metadata": {
  "kernelspec": {
   "display_name": "Python 3 (ipykernel)",
   "language": "python",
   "name": "python3"
  },
  "language_info": {
   "codemirror_mode": {
    "name": "ipython",
    "version": 3
   },
   "file_extension": ".py",
   "mimetype": "text/x-python",
   "name": "python",
   "nbconvert_exporter": "python",
   "pygments_lexer": "ipython3",
   "version": "3.10.9"
  }
 },
 "nbformat": 4,
 "nbformat_minor": 5
}
